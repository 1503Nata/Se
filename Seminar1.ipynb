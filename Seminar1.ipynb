{
 "cells": [
  {
   "cell_type": "markdown",
   "id": "eb7f07ea",
   "metadata": {},
   "source": [
    "## Урок 1. Оформление ноутбука и закрепление функций и генераторов"
   ]
  },
  {
   "cell_type": "markdown",
   "id": "aafeeaca",
   "metadata": {},
   "source": [
    "### Задание №1.\n",
    "\n",
    "#### На складе лежат разные фрукты в разном количестве. Нужно написать функцию, которая на вход принимает любое количество названий фруктов и их количество, а возвращает общее количество фруктов на складе\n"
   ]
  },
  {
   "cell_type": "code",
   "execution_count": 5,
   "id": "98cd595f",
   "metadata": {},
   "outputs": [],
   "source": [
    "def fruits(**kwargs):\n",
    "    \n",
    "    all_fruits = sum(kwargs.values())\n",
    "    \n",
    "    return f'Fruits: {all_fruits} unit'"
   ]
  },
  {
   "cell_type": "code",
   "execution_count": 6,
   "id": "e960b735",
   "metadata": {},
   "outputs": [
    {
     "name": "stdout",
     "output_type": "stream",
     "text": [
      "Fruits: 16 unit\n"
     ]
    }
   ],
   "source": [
    "print(fruits(apples=2, oranges=7, pears=4, bananas=3))"
   ]
  },
  {
   "cell_type": "markdown",
   "id": "a2f32d53",
   "metadata": {},
   "source": [
    "### Задание №2\n",
    "#### Дан список с затратами на рекламу. \n",
    "#### Но в данных есть ошибки, некоторые затраты имеют отрицательную величину. Удалите такие значения из списка и посчитайте суммарные затраты [100, 125, -90, 345, 655, -1, 0, 200] Используйте list comprehensions"
   ]
  },
  {
   "cell_type": "code",
   "execution_count": 2,
   "id": "c803d92c",
   "metadata": {},
   "outputs": [
    {
     "data": {
      "text/plain": [
       "1425"
      ]
     },
     "execution_count": 2,
     "metadata": {},
     "output_type": "execute_result"
    }
   ],
   "source": [
    "sum([num for num in [100, 125, -90, 345, 655, -1, 0, 200] if num >= 0])"
   ]
  },
  {
   "cell_type": "markdown",
   "id": "d15010b4",
   "metadata": {},
   "source": [
    "### Задание №3\n",
    "\n",
    "#### Даны два списка.\n",
    "#### Дата покупки \n",
    "['2021-09-14', '2021-12-15', '2021-09-08', '2021-12-05', '2021-10-09', '2021-09-30', '2021-12-22', '2021-11-29', '2021-12-24', '2021-11-26', '2021-10-27', '2021-12-18', '2021-11-09', '2021-11-23', '2021-09-27', '2021-10-02', '2021-12-27', '2021-09-20', '2021-12-13', '2021-11-01', '2021-11-09', '2021-12-06', '2021-12-08', '2021-10-09', '2021-10-31', '2021-09-30', '2021-11-09', '2021-12-13', '2021-10-26', '2021-12-09'] \n",
    "#### Суммы покупок по датам\n",
    "[1270, 8413, 9028, 3703, 5739, 4095, 295, 4944, 5723, 3701, 4471, 651, 7037, 4274, 6275, 4988, 6930, 2971, 6592, 2004, 2822, 519, 3406, 2732, 5015, 2008, 316, 6333, 5700, 2887]\n"
   ]
  },
  {
   "cell_type": "markdown",
   "id": "92539bda",
   "metadata": {},
   "source": [
    "#### Найдите, какая выручка у компании в ноябре \n",
    "#### Используйте list comprehensions"
   ]
  },
  {
   "cell_type": "code",
   "execution_count": 5,
   "id": "76871dd5",
   "metadata": {},
   "outputs": [],
   "source": [
    "date = ['2021-09-14', '2021-12-15', '2021-09-08', '2021-12-05', '2021-10-09', '2021-09-30', '2021-12-22', '2021-11-29',\n",
    "        '2021-12-24', '2021-11-26', '2021-10-27', '2021-12-18', '2021-11-09', '2021-11-23', '2021-09-27', '2021-10-02',\n",
    "        '2021-12-27', '2021-09-20', '2021-12-13', '2021-11-01', '2021-11-09', '2021-12-06', '2021-12-08', '2021-10-09',\n",
    "        '2021-10-31', '2021-09-30','2021-11-09', '2021-12-13', '2021-10-26', '2021-12-09']\n",
    "\n",
    "tradingrev=[1270, 8413, 9028, 3703, 5739, 4095, 295, 4944, 5723, 3701, 4471, 651, 7037, 4274, 6275, 4988, 6930, 2971, \n",
    "            6592, 2004, 2822, 519, 3406, 2732, 5015, 2008, 316, 6333, 5700, 2887]"
   ]
  },
  {
   "cell_type": "code",
   "execution_count": 15,
   "id": "f7dcca30",
   "metadata": {},
   "outputs": [
    {
     "name": "stdout",
     "output_type": "stream",
     "text": [
      "[4944, 3701, 7037, 4274, 2004, 2822, 316]\n",
      "Суммарная выручка за ноябрь 2021 года составила: 25098 денег.\n"
     ]
    }
   ],
   "source": [
    "print([tradingrev[i] for i in range(0, len(date)-1) if \"2021-11-\" in date[i]])\n",
    "print(f'Суммарная выручка за ноябрь 2021 года составила: {sum([tradingrev[i] for i in range(len(date)-1) if \"2021-11-\" in date[i]])} денег.')"
   ]
  },
  {
   "cell_type": "markdown",
   "id": "db50f78d",
   "metadata": {},
   "source": [
    "#### Найдите выручку компании в зависимости от месяца\n",
    "#### Для этого напишите функцию, которая на вход принимает список с датами и список с выручкой, а на выходе словарь, где ключи - это месяцы, а значения - это выручка.\n",
    "#### Используйте аннотирование типов.\n",
    "\n"
   ]
  },
  {
   "cell_type": "code",
   "execution_count": 16,
   "id": "d43bca16",
   "metadata": {},
   "outputs": [
    {
     "name": "stdout",
     "output_type": "stream",
     "text": [
      "{'09': 25647, '12': 45452, '10': 28645, '11': 25098}\n"
     ]
    }
   ],
   "source": [
    "def monthly_sales(data1: list, data2: list) -> dict:\n",
    "    \n",
    "    monthly_sales = {}\n",
    "    \n",
    "    for i in range(len(data1)):\n",
    "        \n",
    "        if date[i].split('-')[1] in monthly_sales.keys():\n",
    "            monthly_sales[date[i].split('-')[1]] += tradingrev[i]\n",
    "        else:\n",
    "             monthly_sales[date[i].split('-')[1]] = tradingrev[i]\n",
    "            \n",
    "    return monthly_sales\n",
    "\n",
    "print(monthly_sales(date, tradingrev))"
   ]
  }
 ],
 "metadata": {
  "kernelspec": {
   "display_name": "Python 3 (ipykernel)",
   "language": "python",
   "name": "python3"
  },
  "language_info": {
   "codemirror_mode": {
    "name": "ipython",
    "version": 3
   },
   "file_extension": ".py",
   "mimetype": "text/x-python",
   "name": "python",
   "nbconvert_exporter": "python",
   "pygments_lexer": "ipython3",
   "version": "3.11.3"
  }
 },
 "nbformat": 4,
 "nbformat_minor": 5
}
